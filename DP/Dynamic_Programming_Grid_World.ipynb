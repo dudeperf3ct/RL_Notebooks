{
 "cells": [
  {
   "cell_type": "code",
   "execution_count": 1,
   "metadata": {
    "colab": {
     "base_uri": "https://localhost:8080/",
     "height": 34
    },
    "colab_type": "code",
    "id": "NKqSIm9JbeZE",
    "outputId": "71a83b7b-7939-4597-d817-006204cd2740"
   },
   "outputs": [
    {
     "name": "stdout",
     "output_type": "stream",
     "text": [
      "Mounted at /content/drive\n"
     ]
    }
   ],
   "source": [
    "## We need to load Grid World env stored in lib copy it on google drive or upload it on colab\n",
    "\n",
    "# from google.colab import drive\n",
    "# drive.mount('/content/drive')\n",
    "\n",
    "# !cp -a drive/My\\ Drive/Colab\\ Notebooks/RL_Notebooks/lib /content/"
   ]
  },
  {
   "cell_type": "code",
   "execution_count": 0,
   "metadata": {
    "colab": {},
    "colab_type": "code",
    "id": "rb8AE51TMSYC"
   },
   "outputs": [],
   "source": [
    "import numpy as np\n",
    "import random\n",
    "import copy\n",
    "import sys\n",
    "from lib.envs.gridworld import GridworldEnv"
   ]
  },
  {
   "cell_type": "markdown",
   "metadata": {
    "colab_type": "text",
    "id": "nsODcHiXcpse"
   },
   "source": [
    "### GridWorld Environment\n",
    "\n",
    "![Grid World](images/grid_world.png)\n",
    "\n",
    "\n",
    "In this environment, we are given 2 terminal states and 1 starting state. \n",
    "\n",
    "An agent can take 4 actions when in any state(up=0, right=1, down=2, left=3).\n"
   ]
  },
  {
   "cell_type": "code",
   "execution_count": 0,
   "metadata": {
    "colab": {},
    "colab_type": "code",
    "id": "K6zQZEV2MSYa"
   },
   "outputs": [],
   "source": [
    "env = GridworldEnv()"
   ]
  },
  {
   "cell_type": "code",
   "execution_count": 5,
   "metadata": {
    "colab": {
     "base_uri": "https://localhost:8080/",
     "height": 86
    },
    "colab_type": "code",
    "id": "rnClreNObb5Y",
    "outputId": "87fa136e-050e-43e0-d9d2-e30c2c582d69"
   },
   "outputs": [
    {
     "name": "stdout",
     "output_type": "stream",
     "text": [
      "T  o  o  x\n",
      "o  o  o  o\n",
      "o  o  o  o\n",
      "o  o  o  T\n"
     ]
    }
   ],
   "source": [
    "env._render()"
   ]
  },
  {
   "cell_type": "code",
   "execution_count": 0,
   "metadata": {
    "colab": {},
    "colab_type": "code",
    "id": "cMHBwJnYksPZ"
   },
   "outputs": [],
   "source": [
    "action = [\"up\", \"right\", \"down\", \"left\"]"
   ]
  },
  {
   "cell_type": "code",
   "execution_count": 7,
   "metadata": {
    "colab": {
     "base_uri": "https://localhost:8080/",
     "height": 52
    },
    "colab_type": "code",
    "id": "4Gr_8DQocjrp",
    "outputId": "6a368154-7bae-48e1-f695-57808e8fbf27"
   },
   "outputs": [
    {
     "name": "stdout",
     "output_type": "stream",
     "text": [
      "Number of states: 16\n",
      "Number of actions that an agent can take: 4\n"
     ]
    }
   ],
   "source": [
    "# 4x4 grid = 16 states\n",
    "print (\"Number of states:\", env.nS)\n",
    "# either go left, up, down or right\n",
    "print (\"Number of actions that an agent can take:\", env.nA)"
   ]
  },
  {
   "cell_type": "code",
   "execution_count": 8,
   "metadata": {
    "colab": {
     "base_uri": "https://localhost:8080/",
     "height": 72
    },
    "colab_type": "code",
    "id": "xGqrjMTHhbg9",
    "outputId": "71544c3f-a291-4699-f720-7e7eec8539ba"
   },
   "outputs": [
    {
     "name": "stdout",
     "output_type": "stream",
     "text": [
      "Current state 3\n",
      "Transitions from current state: {0: [(1.0, 3, -1.0, False)], 1: [(1.0, 3, -1.0, False)], 2: [(1.0, 7, -1.0, False)], 3: [(1.0, 2, -1.0, False)]}\n"
     ]
    }
   ],
   "source": [
    "# Where am I?\n",
    "print (\"Current state\", env.s)\n",
    "# What are my options?\n",
    "print (\"Transitions from current state:\", env.P[env.s])"
   ]
  },
  {
   "cell_type": "code",
   "execution_count": 9,
   "metadata": {
    "colab": {
     "base_uri": "https://localhost:8080/",
     "height": 173
    },
    "colab_type": "code",
    "id": "3wacYGnEcjuX",
    "outputId": "a88994a4-6eb6-44b9-b970-b889b9537296"
   },
   "outputs": [
    {
     "name": "stdout",
     "output_type": "stream",
     "text": [
      "Action taken: left\n",
      "Transition probability: {'prob': 1.0}\n",
      "Next state: 2\n",
      "Reward recieved: -1.0\n",
      "Terminal state: False\n",
      "T  o  x  o\n",
      "o  o  o  o\n",
      "o  o  o  o\n",
      "o  o  o  T\n"
     ]
    }
   ],
   "source": [
    "# Taking a step by selecting a random action[up=0, right=1, down=2, left=3] from current state\n",
    "# next state: Where do I end up?\n",
    "# reward: What rewards did I recieve?\n",
    "# is_terminal: did I end up in the goal state?\n",
    "# t_prob: What is probability of ending up in next state taking that action?\n",
    "rnd_action = random.randint(0, 3)\n",
    "print (\"Action taken:\", action[rnd_action])\n",
    "next_state, reward, is_terminal, t_prob = env.step(rnd_action)\n",
    "print (\"Transition probability:\", t_prob)\n",
    "print (\"Next state:\", next_state)\n",
    "print (\"Reward recieved:\", reward)\n",
    "print (\"Terminal state:\", is_terminal)\n",
    "env._render()"
   ]
  },
  {
   "cell_type": "markdown",
   "metadata": {
    "colab_type": "text",
    "id": "rOLZ9fOGiMl1"
   },
   "source": [
    "### Policy Evaluation\n",
    "\n",
    "The goal in policy evaluation is to evaluate any given valid policy. Policy will be a matrix of shape (S, A) which provides mapping from states to action.\n",
    "\n",
    "$$\n",
    "\\begin{aligned} \n",
    "v_{k+1}(s) &= \\sum_{a \\in \\mathcal{A}}\\pi(a \\vert s)[\\mathcal{R}_{s}^{a} + \\gamma \\sum_{s^{'} \\in S}\\mathcal{P}_{ss^{'}}^{a}v{k}(s^{'})]\n",
    "\\end{aligned} \n",
    "$$\n",
    "\n",
    "![Policy Evaluation](images/pe.png)\n"
   ]
  },
  {
   "cell_type": "code",
   "execution_count": 0,
   "metadata": {
    "colab": {},
    "colab_type": "code",
    "id": "eLbOQnVcMSYq"
   },
   "outputs": [],
   "source": [
    "def policy_eval(policy, env, discount_factor=1.0, theta=0.00001):\n",
    "    \"\"\"\n",
    "    Evaluate a policy given an environment and a full description of the environment's dynamics.\n",
    "    \n",
    "    Args:\n",
    "        policy: [S, A] shaped matrix representing the policy.\n",
    "        env: env.P represents the transition probabilities of the environment.\n",
    "             env.P[s][a] is a list of transition tuples (prob, next_state, reward, done).\n",
    "             env.nS is a number of states in the environment. \n",
    "             env.nA is a number of actions in the environment.\n",
    "        theta: We stop evaluation once our value function change is less than theta for all states.\n",
    "        discount_factor: Gamma discount factor.\n",
    "    \n",
    "    Returns:\n",
    "        Vector of length env.nS representing the value function.\n",
    "    \"\"\"\n",
    "    # Start with a random (all 0) value function\n",
    "    V = np.zeros(env.nS)\n",
    "    values = list()\n",
    "    values.append(np.copy(V))\n",
    "    \n",
    "    while True:\n",
    "        delta = 0\n",
    "        # for each state s in the environment\n",
    "        for s in range(env.nS):\n",
    "            \n",
    "            # what actions can be taken when in state s according to policy\n",
    "            A = policy[s]\n",
    "            v_s = 0\n",
    "            \n",
    "            # for each action a that can be taken when in state s under policy with probability action_prob\n",
    "            for a, action_prob in enumerate(A):\n",
    "            \n",
    "               # expected returns from all states that can be visited taking action a\n",
    "               for (t_prob, next_state, reward, is_terminal) in env.P[s][a]:\n",
    "                   # probability of taking action a * probability of ending in next state *\n",
    "                   # [immediate reward + discount * returns from next state]\n",
    "                   v_s += action_prob * t_prob * (reward + discount_factor * V[next_state])\n",
    "            \n",
    "            delta = max(delta, abs(v_s-V[s]))\n",
    "            V[s] = v_s\n",
    "        \n",
    "        values.append(np.copy(V))\n",
    "        \n",
    "        # values of all states is less than theta\n",
    "        if (delta < theta):\n",
    "            break\n",
    "    return V, values"
   ]
  },
  {
   "cell_type": "code",
   "execution_count": 0,
   "metadata": {
    "colab": {},
    "colab_type": "code",
    "id": "RGBQjIf04IKq"
   },
   "outputs": [],
   "source": [
    "# equiprobable random policy\n",
    "random_policy = np.ones([env.nS, env.nA]) / env.nA"
   ]
  },
  {
   "cell_type": "code",
   "execution_count": 29,
   "metadata": {
    "colab": {
     "base_uri": "https://localhost:8080/",
     "height": 52
    },
    "colab_type": "code",
    "id": "XSEZYSbIMSY2",
    "outputId": "1433c3aa-b2a0-4fa8-9ba7-2478d78ca962"
   },
   "outputs": [
    {
     "name": "stdout",
     "output_type": "stream",
     "text": [
      "CPU times: user 16.9 ms, sys: 0 ns, total: 16.9 ms\n",
      "Wall time: 17 ms\n"
     ]
    }
   ],
   "source": [
    "%%time\n",
    "v, val = policy_eval(random_policy, env)"
   ]
  },
  {
   "cell_type": "code",
   "execution_count": 30,
   "metadata": {
    "colab": {
     "base_uri": "https://localhost:8080/",
     "height": 121
    },
    "colab_type": "code",
    "id": "VA2G9yfJ-qmm",
    "outputId": "e4e0fb90-8733-4219-a625-7cd748a95a20"
   },
   "outputs": [
    {
     "name": "stdout",
     "output_type": "stream",
     "text": [
      "Value Function:\n",
      "[  0.         -13.99993529 -19.99990698 -21.99989761 -13.99993529\n",
      " -17.9999206  -19.99991379 -19.99991477 -19.99990698 -19.99991379\n",
      " -17.99992725 -13.99994569 -21.99989761 -19.99991477 -13.99994569\n",
      "   0.        ]\n",
      "\n"
     ]
    }
   ],
   "source": [
    "print(\"Value Function:\")\n",
    "print(v)\n",
    "print(\"\")"
   ]
  },
  {
   "cell_type": "code",
   "execution_count": 31,
   "metadata": {
    "colab": {
     "base_uri": "https://localhost:8080/",
     "height": 34
    },
    "colab_type": "code",
    "id": "wabzrONkBIEo",
    "outputId": "fd387266-a442-4702-de98-3affe6b83aac"
   },
   "outputs": [
    {
     "name": "stdout",
     "output_type": "stream",
     "text": [
      "142\n"
     ]
    }
   ],
   "source": [
    "print (len(val))"
   ]
  },
  {
   "cell_type": "code",
   "execution_count": 0,
   "metadata": {
    "colab": {},
    "colab_type": "code",
    "id": "RmPK69m4DeZg"
   },
   "outputs": [],
   "source": [
    "import matplotlib.pyplot as plt\n",
    "from matplotlib import animation\n",
    "import numpy as np\n",
    "%matplotlib inline\n",
    "\n",
    "def show_anim(val, name='value_function', n=4):\n",
    "\n",
    "    def barlist(n):\n",
    "        return val[n]\n",
    "\n",
    "    fig=plt.figure()\n",
    "    x=range(16)\n",
    "    ylim = [-25, 0]\n",
    "    barcollection = plt.bar(x, barlist(0))\n",
    "    plt.ylim(ylim)\n",
    "\n",
    "    def animate(i):\n",
    "        y = barlist(i+1)\n",
    "        plt.cla()\n",
    "        bar = plt.gca().bar(x, barlist(i))\n",
    "        plt.ylim(ylim)\n",
    "\n",
    "    anim=animation.FuncAnimation(fig,animate, blit=False, repeat=False, frames=n)\n",
    "\n",
    "    anim.save(name+'.mp4', writer=animation.FFMpegWriter(fps=1))"
   ]
  },
  {
   "cell_type": "code",
   "execution_count": 36,
   "metadata": {
    "colab": {
     "base_uri": "https://localhost:8080/",
     "height": 269
    },
    "colab_type": "code",
    "id": "MKQm81dqE3hB",
    "outputId": "6a86ecaf-3071-481d-ee5c-7124b472c0a9"
   },
   "outputs": [
    {
     "data": {
      "image/png": "[encoded data removed]",
      "text/plain": [
       "<Figure size 432x288 with 1 Axes>"
      ]
     },
     "metadata": {
      "tags": []
     },
     "output_type": "display_data"
    }
   ],
   "source": [
    "show_anim(val, 'value_function', n=141)"
   ]
  },
  {
   "cell_type": "code",
   "execution_count": 0,
   "metadata": {
    "colab": {},
    "colab_type": "code",
    "id": "IHreOkTX0_nz"
   },
   "outputs": [],
   "source": [
    "from IPython.display import HTML\n",
    "from base64 import b64encode\n",
    "mp4 = open('value_function.mp4','rb').read()\n",
    "data_url = \"data:video/mp4;base64,\" + b64encode(mp4).decode()\n",
    "HTML(\"\"\"\n",
    "<video width=400 controls>\n",
    "      <source src=\"%s\" type=\"video/mp4\">\n",
    "</video>\n",
    "\"\"\" % data_url)"
   ]
  },
  {
   "cell_type": "code",
   "execution_count": 0,
   "metadata": {
    "colab": {},
    "colab_type": "code",
    "id": "sbPt7qoPMSZE"
   },
   "outputs": [],
   "source": [
    "# Test: Make sure the evaluated policy is what we expected\n",
    "expected_v = np.array([0, -14, -20, -22, -14, -18, -20, -20, -20, -20, -18, -14, -22, -20, -14, 0])\n",
    "np.testing.assert_array_almost_equal(v, expected_v, decimal=2)"
   ]
  },
  {
   "cell_type": "markdown",
   "metadata": {
    "colab_type": "text",
    "id": "JYeK9HPuClQC"
   },
   "source": [
    "### Policy Iteration\n",
    "\n",
    "The goal in policy iteration is to find optimal policy.\n",
    "\n",
    "Policy iteration consits of 2 steps. Given a policy, we evaluate given policy using policy evaluation from above and we act greedy with respect to value function obtained in policy evaluation step to get a improved policy. This step is called policy improvement step. We repeat these 2 steps until policy converges i.e there is no change in old and new improved policy.\n",
    "\n",
    "\n",
    "![Policy Iteration](images/pi.png)"
   ]
  },
  {
   "cell_type": "code",
   "execution_count": 0,
   "metadata": {
    "colab": {},
    "colab_type": "code",
    "id": "hndLL0YcCeMn"
   },
   "outputs": [],
   "source": [
    "def policy_eval(policy, env, discount_factor=1.0, theta=0.00001):\n",
    "    \"\"\"\n",
    "    Evaluate a policy given an environment and a full description of the environment's dynamics.\n",
    "    \n",
    "    Args:\n",
    "        policy: [S, A] shaped matrix representing the policy.\n",
    "        env: env.P represents the transition probabilities of the environment.\n",
    "             env.P[s][a] is a list of transition tuples (prob, next_state, reward, done).\n",
    "             env.nS is a number of states in the environment. \n",
    "             env.nA is a number of actions in the environment.\n",
    "        theta: We stop evaluation once our value function change is less than theta for all states.\n",
    "        discount_factor: Gamma discount factor.\n",
    "    \n",
    "    Returns:\n",
    "        Vector of length env.nS representing the value function.\n",
    "    \"\"\"\n",
    "    # Start with a random (all 0) value function\n",
    "    V = np.zeros(env.nS)\n",
    "    values = list()\n",
    "    values.append(np.copy(V))\n",
    "    \n",
    "    while True:\n",
    "        delta = 0\n",
    "        # for each state s in the environment\n",
    "        for s in range(env.nS):        \n",
    "            # what actions can be taken when in state s according to policy\n",
    "            A = policy[s]\n",
    "            v_s = 0  \n",
    "            # for each action a that can be taken when in state s under policy with probability action_prob\n",
    "            for a, action_prob in enumerate(A):\n",
    "               # expected returns from all states that can be visited taking action a\n",
    "               for (t_prob, next_state, reward, is_terminal) in env.P[s][a]:\n",
    "                   # probability of taking action a * probability of ending in next state *\n",
    "                   # [immediate reward + discount * returns from next state]\n",
    "                   v_s += action_prob * t_prob * (reward + discount_factor * V[next_state])      \n",
    "            delta = max(delta, abs(v_s-V[s]))\n",
    "            V[s] = v_s     \n",
    "        values.append(np.copy(V))    \n",
    "        # values of all states is less than theta\n",
    "        if (delta < theta):\n",
    "            break\n",
    "    return V, values"
   ]
  },
  {
   "cell_type": "code",
   "execution_count": 0,
   "metadata": {
    "colab": {},
    "colab_type": "code",
    "id": "SOj62UaMCeKF"
   },
   "outputs": [],
   "source": [
    "def policy_improvement(env, policy_eval_fn=policy_eval, discount_factor=1.0):\n",
    "    \"\"\"\n",
    "    Policy Improvement Algorithm. Iteratively evaluates and improves a policy\n",
    "    until an optimal policy is found.\n",
    "    \n",
    "    Args:\n",
    "        env: The OpenAI envrionment.\n",
    "        policy_eval_fn: Policy Evaluation function that takes 3 arguments:\n",
    "            policy, env, discount_factor.\n",
    "        discount_factor: gamma discount factor.\n",
    "        \n",
    "    Returns:\n",
    "        A tuple (policy, V). \n",
    "        policy is the optimal policy, a matrix of shape [S, A] where each state s\n",
    "        contains a valid probability distribution over actions.\n",
    "        V is the value function for the optimal policy.\n",
    "        \n",
    "    \"\"\"\n",
    "    # Start with a equiprobable policy\n",
    "    policy = np.ones([env.nS, env.nA]) / env.nA\n",
    "    val = list()\n",
    "    pol = list()\n",
    "    while True:\n",
    "        # evaluate the given policy\n",
    "        V, _ = policy_eval_fn(policy, env, discount_factor)\n",
    "        val.append(np.copy(V))\n",
    "        # improve the policy by being greedy wrt to current value function\n",
    "        policy_stable = True\n",
    "        old_policy = policy.copy()\n",
    "        pol.append(np.copy(old_policy))\n",
    "        for s in range(env.nS):\n",
    "            v = []      \n",
    "            # find returns for each action a\n",
    "            for a in range(env.nA):   \n",
    "                # expected returns from all states that can be visited taking action a\n",
    "                v_s = 0\n",
    "                for (t_prob, next_state, reward, is_terminal) in env.P[s][a]:\n",
    "                    # probability of taking action a * probability of ending in next state *\n",
    "                    # [immediate reward + discount * returns from next state]\n",
    "                    v_s += t_prob * (reward + discount_factor * V[next_state])\n",
    "                v.append(v_s)\n",
    "            policy[s] = np.eye(env.nA)[np.argmax(v)]\n",
    "            if (np.argmax(v) != np.argmax(old_policy[s])):\n",
    "                policy_stable = False\n",
    "        # if policy no longer improves, we found optimal policy\n",
    "        if (policy_stable):\n",
    "            return (policy, V, val, pol)"
   ]
  },
  {
   "cell_type": "code",
   "execution_count": 41,
   "metadata": {
    "colab": {
     "base_uri": "https://localhost:8080/",
     "height": 364
    },
    "colab_type": "code",
    "id": "HPhB_ONWC8z4",
    "outputId": "3f1d70c6-7f60-42e2-fc33-4e7f75fe6a45"
   },
   "outputs": [
    {
     "name": "stdout",
     "output_type": "stream",
     "text": [
      "Policy Probability Distribution:\n",
      "[[1. 0. 0. 0.]\n",
      " [0. 0. 0. 1.]\n",
      " [0. 0. 0. 1.]\n",
      " [0. 0. 1. 0.]\n",
      " [1. 0. 0. 0.]\n",
      " [1. 0. 0. 0.]\n",
      " [1. 0. 0. 0.]\n",
      " [0. 0. 1. 0.]\n",
      " [1. 0. 0. 0.]\n",
      " [1. 0. 0. 0.]\n",
      " [0. 1. 0. 0.]\n",
      " [0. 0. 1. 0.]\n",
      " [1. 0. 0. 0.]\n",
      " [0. 1. 0. 0.]\n",
      " [0. 1. 0. 0.]\n",
      " [1. 0. 0. 0.]]\n",
      "\n",
      "CPU times: user 20.5 ms, sys: 0 ns, total: 20.5 ms\n",
      "Wall time: 21.6 ms\n"
     ]
    }
   ],
   "source": [
    "%%time\n",
    "policy, v, val, pol = policy_improvement(env)\n",
    "print(\"Policy Probability Distribution:\")\n",
    "print(policy)\n",
    "print(\"\")"
   ]
  },
  {
   "cell_type": "code",
   "execution_count": 42,
   "metadata": {
    "colab": {
     "base_uri": "https://localhost:8080/",
     "height": 278
    },
    "colab_type": "code",
    "id": "9lShEGgLCeHp",
    "outputId": "9b64f6a5-531e-4c5d-fcd4-2f9d7b6dd764"
   },
   "outputs": [
    {
     "name": "stdout",
     "output_type": "stream",
     "text": [
      "Reshaped Grid Policy (0=up, 1=right, 2=down, 3=left):\n",
      "[[0 3 3 2]\n",
      " [0 0 0 2]\n",
      " [0 0 1 2]\n",
      " [0 1 1 0]]\n",
      "\n",
      "Optimal Policy:\n",
      "[['up' 'left' 'left' 'down']\n",
      " ['up' 'up' 'up' 'down']\n",
      " ['up' 'up' 'right' 'down']\n",
      " ['up' 'right' 'right' 'up']]\n",
      "\n",
      "Optimal Value Function:\n",
      "[ 0. -1. -2. -3. -1. -2. -3. -2. -2. -3. -2. -1. -3. -2. -1.  0.]\n",
      "\n"
     ]
    }
   ],
   "source": [
    "print(\"Reshaped Grid Policy (0=up, 1=right, 2=down, 3=left):\")\n",
    "actions = np.stack([action for _ in range(len(policy))], axis=0)\n",
    "print (np.reshape(np.argmax(policy, axis=1), env.shape))\n",
    "print (\"\")\n",
    "\n",
    "print (\"Optimal Policy:\")\n",
    "print(np.take(actions, np.reshape(np.argmax(policy, axis=1), env.shape)))\n",
    "print(\"\")\n",
    "\n",
    "print(\"Optimal Value Function:\")\n",
    "print(v)\n",
    "print(\"\")"
   ]
  },
  {
   "cell_type": "code",
   "execution_count": 43,
   "metadata": {
    "colab": {
     "base_uri": "https://localhost:8080/",
     "height": 34
    },
    "colab_type": "code",
    "id": "RFITkQCoCgx4",
    "outputId": "3f5eddc1-0e5c-4ef6-c7e5-03fe824f1502"
   },
   "outputs": [
    {
     "name": "stdout",
     "output_type": "stream",
     "text": [
      "3 3\n"
     ]
    }
   ],
   "source": [
    "print (len(val), len(pol))"
   ]
  },
  {
   "cell_type": "code",
   "execution_count": 0,
   "metadata": {
    "colab": {},
    "colab_type": "code",
    "id": "ug-TC47lIU0Y"
   },
   "outputs": [],
   "source": [
    "val"
   ]
  },
  {
   "cell_type": "code",
   "execution_count": 45,
   "metadata": {
    "colab": {
     "base_uri": "https://localhost:8080/",
     "height": 269
    },
    "colab_type": "code",
    "id": "NFkS82eOt7Ok",
    "outputId": "3054340c-d67e-49e7-c0f3-3e7bbafae127"
   },
   "outputs": [
    {
     "data": {
      "image/png": "[encoded data removed]",
      "text/plain": [
       "<Figure size 432x288 with 1 Axes>"
      ]
     },
     "metadata": {
      "tags": []
     },
     "output_type": "display_data"
    }
   ],
   "source": [
    "show_anim(val, 'pi_value_function', n=2)"
   ]
  },
  {
   "cell_type": "code",
   "execution_count": 50,
   "metadata": {
    "colab": {
     "base_uri": "https://localhost:8080/",
     "height": 288
    },
    "colab_type": "code",
    "id": "9uHG80OKF3EN",
    "outputId": "4659d72e-b64a-47ac-b6c9-432960909b97"
   },
   "outputs": [
    {
     "data": {
      "text/html": [
       "a\n",
       "<video width=400 controls>\n",
       "      <source src=\"data:video/mp4;base64,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\" type=\"video/mp4\">\n",
       "</video>\n"
      ],
      "text/plain": [
       "<IPython.core.display.HTML object>"
      ]
     },
     "execution_count": 50,
     "metadata": {
      "tags": []
     },
     "output_type": "execute_result"
    }
   ],
   "source": [
    "from IPython.display import HTML\n",
    "from base64 import b64encode\n",
    "mp4 = open('pi_value_function.mp4','rb').read()\n",
    "data_url = \"data:video/mp4;base64,\" + b64encode(mp4).decode()\n",
    "HTML(\"\"\"\n",
    "<video width=400 controls>\n",
    "      <source src=\"%s\" type=\"video/mp4\">\n",
    "</video>\n",
    "\"\"\" % data_url)"
   ]
  },
  {
   "cell_type": "markdown",
   "metadata": {
    "colab_type": "text",
    "id": "Ox6w8eKbt__7"
   },
   "source": [
    "### Generalized Policy Iteration (GPI)\n",
    "\n",
    "The goal in gpi is to find optimal policy and optimal value function.  \n",
    "\n",
    "In generalized policy iteration, we perform continuous iterations of each policy evaluation and policy iteration alternatively. The value function is altered to more closely approximate the value function for the current policy, and the policy is repeatedly improved with respect to the current value function. Eventually both approximate value function and policy converges to optimal value function and optimal policy.\n",
    "\n",
    "![GPI](images/policy_iteration_0.png)\n",
    "![GPI_1](images/policy_iteration.png)"
   ]
  },
  {
   "cell_type": "code",
   "execution_count": 0,
   "metadata": {
    "colab": {},
    "colab_type": "code",
    "id": "jXT_Y48iuAAa"
   },
   "outputs": [],
   "source": [
    "def policy_eval(policy, env, V, discount_factor=1.0, theta=0.00001):\n",
    "    \"\"\"\n",
    "    Evaluate a policy given an environment and a full description of the environment's dynamics.\n",
    "    \n",
    "    Args:\n",
    "        policy: [S, A] shaped matrix representing the policy.\n",
    "        env: env.P represents the transition probabilities of the environment.\n",
    "             env.P[s][a] is a list of transition tuples (prob, next_state, reward, done).\n",
    "             env.nS is a number of states in the environment. \n",
    "             env.nA is a number of actions in the environment.\n",
    "        theta: We stop evaluation once our value function change is less than theta for all states.\n",
    "        discount_factor: Gamma discount factor.\n",
    "    \n",
    "    Returns:\n",
    "        Vector of length env.nS representing the value function.\n",
    "    \"\"\"\n",
    "    values = list()\n",
    "    values.append(np.copy(V))\n",
    "    \n",
    "    # for each state s in the environment\n",
    "    for s in range(env.nS):        \n",
    "        # what actions can be taken when in state s according to policy\n",
    "        A = policy[s]\n",
    "        v_s = 0  \n",
    "        # for each action a that can be taken when in state s under policy with probability action_prob\n",
    "        for a, action_prob in enumerate(A):\n",
    "            # expected returns from all states that can be visited taking action a\n",
    "            for (t_prob, next_state, reward, is_terminal) in env.P[s][a]:\n",
    "                # probability of taking action a * probability of ending in next state *\n",
    "                # [immediate reward + discount * returns from next state]\n",
    "                v_s += action_prob * t_prob * (reward + discount_factor * V[next_state])\n",
    "        V[s] = v_s     \n",
    "    values.append(np.copy(V))\n",
    "    return V, values"
   ]
  },
  {
   "cell_type": "code",
   "execution_count": 0,
   "metadata": {
    "colab": {},
    "colab_type": "code",
    "id": "NV89zSjeuAAo"
   },
   "outputs": [],
   "source": [
    "def policy_improvement(env, policy, V, discount_factor=1.0):\n",
    "    \"\"\"\n",
    "    Policy Improvement Algorithm. Iteratively evaluates and improves a policy\n",
    "    until an optimal policy is found.\n",
    "    \n",
    "    Args:\n",
    "        env: The OpenAI envrionment.\n",
    "        policy_eval_fn: Policy Evaluation function that takes 3 arguments:\n",
    "            policy, env, discount_factor.\n",
    "        discount_factor: gamma discount factor.\n",
    "        \n",
    "    Returns:\n",
    "        A tuple (policy, V). \n",
    "        policy is the optimal policy, a matrix of shape [S, A] where each state s\n",
    "        contains a valid probability distribution over actions.\n",
    "        V is the value function for the optimal policy.\n",
    "        \n",
    "    \"\"\"\n",
    "    # improve the policy by being greedy wrt to current value function\n",
    "    old_policy = policy.copy()\n",
    "    for s in range(env.nS):\n",
    "        v = []      \n",
    "        # find returns for each action a\n",
    "        for a in range(env.nA):   \n",
    "            # expected returns from all states that can be visited taking action a\n",
    "            v_s = 0\n",
    "            for (t_prob, next_state, reward, is_terminal) in env.P[s][a]:\n",
    "                # probability of taking action a * probability of ending in next state *\n",
    "                # [immediate reward + discount * returns from next state]\n",
    "                v_s += t_prob * (reward + discount_factor * V[next_state])\n",
    "            v.append(v_s)\n",
    "        policy[s] = np.eye(env.nA)[np.argmax(v)]\n",
    "    return policy"
   ]
  },
  {
   "cell_type": "code",
   "execution_count": 0,
   "metadata": {
    "colab": {},
    "colab_type": "code",
    "id": "hGsz6XiN3Lew"
   },
   "outputs": [],
   "source": [
    "def gpi(env, policy, V, policy_eval_fn=policy_eval, policy_improve_fn=policy_improvement, discount_factor=1.0, theta=0.00001):\n",
    "    \n",
    "    count = 0\n",
    "    val = list()\n",
    "    pol = list()\n",
    "    while True:\n",
    "        V, _ = policy_eval_fn(policy, env, V, discount_factor, theta)\n",
    "        val.append(np.copy(V))\n",
    "        old_policy = policy.copy()\n",
    "        pol.append(np.copy(old_policy))\n",
    "        policy = policy_improve_fn(env, policy, V, discount_factor)\n",
    "        count += 1\n",
    "        if (np.array_equal(old_policy, policy)):\n",
    "            break\n",
    "\n",
    "    print (\"Number of iterations for optimal policy to converge:\", count)\n",
    "\n",
    "    return policy, V, val, pol"
   ]
  },
  {
   "cell_type": "code",
   "execution_count": 55,
   "metadata": {
    "colab": {
     "base_uri": "https://localhost:8080/",
     "height": 382
    },
    "colab_type": "code",
    "id": "EwjvTOZUuAA0",
    "outputId": "62b47681-0d03-432e-a2c7-78e0eabcad98"
   },
   "outputs": [
    {
     "name": "stdout",
     "output_type": "stream",
     "text": [
      "Number of iterations for optimal policy to converge: 4\n",
      "Policy Probability Distribution:\n",
      "[[1. 0. 0. 0.]\n",
      " [0. 0. 0. 1.]\n",
      " [0. 0. 0. 1.]\n",
      " [0. 0. 1. 0.]\n",
      " [1. 0. 0. 0.]\n",
      " [1. 0. 0. 0.]\n",
      " [1. 0. 0. 0.]\n",
      " [0. 0. 1. 0.]\n",
      " [1. 0. 0. 0.]\n",
      " [1. 0. 0. 0.]\n",
      " [0. 1. 0. 0.]\n",
      " [0. 0. 1. 0.]\n",
      " [1. 0. 0. 0.]\n",
      " [0. 1. 0. 0.]\n",
      " [0. 1. 0. 0.]\n",
      " [1. 0. 0. 0.]]\n",
      "\n",
      "CPU times: user 5.66 ms, sys: 0 ns, total: 5.66 ms\n",
      "Wall time: 5.69 ms\n"
     ]
    }
   ],
   "source": [
    "%%time\n",
    "# Start with a equiprobable policy\n",
    "policy = np.ones([env.nS, env.nA]) / env.nA\n",
    "\n",
    "# Start with a random (all 0) value function\n",
    "V = np.zeros(env.nS)\n",
    "\n",
    "policy, v, val, pol = gpi(env, policy, V)\n",
    "print(\"Policy Probability Distribution:\")\n",
    "print(policy)\n",
    "print(\"\")"
   ]
  },
  {
   "cell_type": "code",
   "execution_count": 56,
   "metadata": {
    "colab": {
     "base_uri": "https://localhost:8080/",
     "height": 278
    },
    "colab_type": "code",
    "id": "ymcnYB7guABA",
    "outputId": "70b2384a-fd57-4d2f-e5a8-8b90eea8ecf5"
   },
   "outputs": [
    {
     "name": "stdout",
     "output_type": "stream",
     "text": [
      "Reshaped Grid Policy (0=up, 1=right, 2=down, 3=left):\n",
      "[[0 3 3 2]\n",
      " [0 0 0 2]\n",
      " [0 0 1 2]\n",
      " [0 1 1 0]]\n",
      "\n",
      "Optimal Policy:\n",
      "[['up' 'left' 'left' 'down']\n",
      " ['up' 'up' 'up' 'down']\n",
      " ['up' 'up' 'right' 'down']\n",
      " ['up' 'right' 'right' 'up']]\n",
      "\n",
      "Optimal Value Function:\n",
      "[ 0. -1. -2. -3. -1. -2. -3. -2. -2. -3. -2. -1. -3. -2. -1.  0.]\n",
      "\n"
     ]
    }
   ],
   "source": [
    "print(\"Reshaped Grid Policy (0=up, 1=right, 2=down, 3=left):\")\n",
    "actions = np.stack([action for _ in range(len(policy))], axis=0)\n",
    "print (np.reshape(np.argmax(policy, axis=1), env.shape))\n",
    "print (\"\")\n",
    "\n",
    "print (\"Optimal Policy:\")\n",
    "print(np.take(actions, np.reshape(np.argmax(policy, axis=1), env.shape)))\n",
    "print(\"\")\n",
    "\n",
    "print(\"Optimal Value Function:\")\n",
    "print(v)\n",
    "print(\"\")"
   ]
  },
  {
   "cell_type": "code",
   "execution_count": 57,
   "metadata": {
    "colab": {
     "base_uri": "https://localhost:8080/",
     "height": 34
    },
    "colab_type": "code",
    "id": "VlGymhFkIEno",
    "outputId": "9bed2e9e-47f7-4b56-e053-7b1b39522e46"
   },
   "outputs": [
    {
     "name": "stdout",
     "output_type": "stream",
     "text": [
      "4 4\n"
     ]
    }
   ],
   "source": [
    "print (len(val), len(pol))"
   ]
  },
  {
   "cell_type": "code",
   "execution_count": 63,
   "metadata": {
    "colab": {
     "base_uri": "https://localhost:8080/",
     "height": 191
    },
    "colab_type": "code",
    "id": "RVtz1XsbIR8j",
    "outputId": "3159f51c-34b3-44d3-a542-e4a6a8ce3bf2"
   },
   "outputs": [
    {
     "data": {
      "text/plain": [
       "[array([ 0.       , -1.       , -1.25     , -1.3125   , -1.       ,\n",
       "        -1.5      , -1.6875   , -1.75     , -1.25     , -1.6875   ,\n",
       "        -1.84375  , -1.8984375, -1.3125   , -1.75     , -1.8984375,\n",
       "         0.       ]),\n",
       " array([ 0., -1., -2., -3., -1., -2., -3., -4., -2., -3., -4., -1., -3.,\n",
       "        -4., -1.,  0.]),\n",
       " array([ 0., -1., -2., -3., -1., -2., -3., -2., -2., -3., -2., -1., -3.,\n",
       "        -2., -1.,  0.]),\n",
       " array([ 0., -1., -2., -3., -1., -2., -3., -2., -2., -3., -2., -1., -3.,\n",
       "        -2., -1.,  0.])]"
      ]
     },
     "execution_count": 63,
     "metadata": {
      "tags": []
     },
     "output_type": "execute_result"
    }
   ],
   "source": [
    "val"
   ]
  },
  {
   "cell_type": "code",
   "execution_count": 61,
   "metadata": {
    "colab": {
     "base_uri": "https://localhost:8080/",
     "height": 269
    },
    "colab_type": "code",
    "id": "xmacid0HIEoU",
    "outputId": "0e9bba16-7bd2-4b69-ffdc-9d9c5731c7c6"
   },
   "outputs": [
    {
     "data": {
      "image/png": "[encoded data removed]",
      "text/plain": [
       "<Figure size 432x288 with 1 Axes>"
      ]
     },
     "metadata": {
      "tags": []
     },
     "output_type": "display_data"
    }
   ],
   "source": [
    "show_anim(val, 'gpi_value_function', n=3)"
   ]
  },
  {
   "cell_type": "code",
   "execution_count": 62,
   "metadata": {
    "colab": {
     "base_uri": "https://localhost:8080/",
     "height": 288
    },
    "colab_type": "code",
    "id": "Hw6pvhpzIEop",
    "outputId": "cbd7e754-19d1-4b01-cc1f-8958dc85b610"
   },
   "outputs": [
    {
     "data": {
      "text/html": [
       "\n",
       "<video width=400 controls>\n",
       "      <source src=\"data:video/mp4;base64,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\" type=\"video/mp4\">\n",
       "</video>\n"
      ],
      "text/plain": [
       "<IPython.core.display.HTML object>"
      ]
     },
     "execution_count": 62,
     "metadata": {
      "tags": []
     },
     "output_type": "execute_result"
    }
   ],
   "source": [
    "from IPython.display import HTML\n",
    "from base64 import b64encode\n",
    "mp4 = open('gpi_value_function.mp4','rb').read()\n",
    "data_url = \"data:video/mp4;base64,\" + b64encode(mp4).decode()\n",
    "HTML(\"\"\"\n",
    "<video width=400 controls>\n",
    "      <source src=\"%s\" type=\"video/mp4\">\n",
    "</video>\n",
    "\"\"\" % data_url)"
   ]
  },
  {
   "cell_type": "markdown",
   "metadata": {
    "colab_type": "text",
    "id": "USNK9M4it3qL"
   },
   "source": [
    "### Value Iteration\n",
    "\n",
    "The goal in value iteration is to find optimal value function.\n",
    "\n",
    "\n",
    "$$ \\begin{aligned} v_{k+1}(s) &= max_{a \\in \\mathcal{A}}[\\mathcal{R}{s}^{a} + \\gamma \\sum{s^{'} \\in S}\\mathcal{P}{ss^{'}}^{a}v{k}(s^{'})]\\ \\end{aligned} $$\n",
    "\n",
    "\n",
    "![Value Iteration](images/vi.png)"
   ]
  },
  {
   "cell_type": "code",
   "execution_count": 0,
   "metadata": {
    "colab": {},
    "colab_type": "code",
    "id": "ZdZx1voet5Rn"
   },
   "outputs": [],
   "source": [
    "def value_iteration(env, theta=0.0001, discount_factor=1.0):\n",
    "    \"\"\"\n",
    "    Value Iteration Algorithm.\n",
    "    \n",
    "    Args:\n",
    "        env: OpenAI env. env.P represents the transition probabilities of the environment.\n",
    "            env.P[s][a] is a list of transition tuples (prob, next_state, reward, done).\n",
    "            env.nS is a number of states in the environment. \n",
    "            env.nA is a number of actions in the environment.\n",
    "        theta: We stop evaluation once our value function change is less than theta for all states.\n",
    "        discount_factor: Gamma discount factor.\n",
    "        \n",
    "    Returns:\n",
    "        A tuple (policy, V) of the optimal policy and the optimal value function.        \n",
    "    \"\"\"\n",
    "    # Start with a random (all 0) value function\n",
    "    V = np.zeros(env.nS)\n",
    "    values = list()\n",
    "    values.append(np.copy(V))\n",
    "    \n",
    "    while True:\n",
    "        delta = 0\n",
    "        # for each state s in the environment\n",
    "        for s in range(env.nS):\n",
    "            v = []\n",
    "            # for each action a that can be taken when in state s\n",
    "            for a in range(env.nA):\n",
    "                # expected returns from all states that can be visited taking action a\n",
    "                v_s = 0\n",
    "                for (t_prob, next_state, reward, is_terminal) in env.P[s][a]:\n",
    "                    # probability of taking action a * probability of ending in next state *\n",
    "                    # [immediate reward + discount * returns from next state]\n",
    "                    v_s += t_prob * (reward + discount_factor * V[next_state])\n",
    "                v.append(v_s)\n",
    "            delta = max(delta, abs(np.max(v)-V[s]))\n",
    "            V[s] = np.max(v)\n",
    "        values.append(np.copy(V))    \n",
    "        # values of all states is less than theta\n",
    "        if (delta < theta):\n",
    "            break\n",
    "    \n",
    "        for s in range(env.nS):\n",
    "            v = []      \n",
    "            # find returns for each action a\n",
    "            for a in range(env.nA):   \n",
    "                # expected returns from all states that can be visited taking action a\n",
    "                v_s = 0\n",
    "                for (t_prob, next_state, reward, is_terminal) in env.P[s][a]:\n",
    "                    # probability of taking action a * probability of ending in next state *\n",
    "                    # [immediate reward + discount * returns from next state]\n",
    "                    v_s += t_prob * (reward + discount_factor * V[next_state])\n",
    "                v.append(v_s)\n",
    "            policy[s] = np.eye(env.nA)[np.argmax(v)]\n",
    "    \n",
    "    return policy, V, values"
   ]
  },
  {
   "cell_type": "code",
   "execution_count": 65,
   "metadata": {
    "colab": {
     "base_uri": "https://localhost:8080/",
     "height": 364
    },
    "colab_type": "code",
    "id": "uBkv37KhuWx5",
    "outputId": "a862a3e1-49a6-43ab-e5f4-f28f0866da46"
   },
   "outputs": [
    {
     "name": "stdout",
     "output_type": "stream",
     "text": [
      "Policy Probability Distribution:\n",
      "[[1. 0. 0. 0.]\n",
      " [0. 0. 0. 1.]\n",
      " [0. 0. 0. 1.]\n",
      " [0. 0. 1. 0.]\n",
      " [1. 0. 0. 0.]\n",
      " [1. 0. 0. 0.]\n",
      " [1. 0. 0. 0.]\n",
      " [0. 0. 1. 0.]\n",
      " [1. 0. 0. 0.]\n",
      " [1. 0. 0. 0.]\n",
      " [0. 1. 0. 0.]\n",
      " [0. 0. 1. 0.]\n",
      " [1. 0. 0. 0.]\n",
      " [0. 1. 0. 0.]\n",
      " [0. 1. 0. 0.]\n",
      " [1. 0. 0. 0.]]\n",
      "\n",
      "CPU times: user 3.87 ms, sys: 0 ns, total: 3.87 ms\n",
      "Wall time: 6.46 ms\n"
     ]
    }
   ],
   "source": [
    "%%time\n",
    "policy, v, val = value_iteration(env)\n",
    "\n",
    "print(\"Policy Probability Distribution:\")\n",
    "print(policy)\n",
    "print(\"\")"
   ]
  },
  {
   "cell_type": "code",
   "execution_count": 66,
   "metadata": {
    "colab": {
     "base_uri": "https://localhost:8080/",
     "height": 278
    },
    "colab_type": "code",
    "id": "UUqm_ETEuWvE",
    "outputId": "2d04668d-c4b3-42be-dbbe-7bf7c30a54db"
   },
   "outputs": [
    {
     "name": "stdout",
     "output_type": "stream",
     "text": [
      "Reshaped Grid Policy (0=up, 1=right, 2=down, 3=left):\n",
      "[[0 3 3 2]\n",
      " [0 0 0 2]\n",
      " [0 0 1 2]\n",
      " [0 1 1 0]]\n",
      "\n",
      "Optimal Policy:\n",
      "[['up' 'left' 'left' 'down']\n",
      " ['up' 'up' 'up' 'down']\n",
      " ['up' 'up' 'right' 'down']\n",
      " ['up' 'right' 'right' 'up']]\n",
      "\n",
      "Optimal Value Function:\n",
      "[ 0. -1. -2. -3. -1. -2. -3. -2. -2. -3. -2. -1. -3. -2. -1.  0.]\n",
      "\n"
     ]
    }
   ],
   "source": [
    "print(\"Reshaped Grid Policy (0=up, 1=right, 2=down, 3=left):\")\n",
    "actions = np.stack([action for _ in range(len(policy))], axis=0)\n",
    "print (np.reshape(np.argmax(policy, axis=1), env.shape))\n",
    "print (\"\")\n",
    "\n",
    "print (\"Optimal Policy:\")\n",
    "print(np.take(actions, np.reshape(np.argmax(policy, axis=1), env.shape)))\n",
    "print(\"\")\n",
    "\n",
    "print(\"Optimal Value Function:\")\n",
    "print(v)\n",
    "print(\"\")"
   ]
  },
  {
   "cell_type": "code",
   "execution_count": 0,
   "metadata": {
    "colab": {},
    "colab_type": "code",
    "id": "doWIMXtAuWrg"
   },
   "outputs": [],
   "source": [
    "# Test the value function\n",
    "expected_v = np.array([ 0, -1, -2, -3, -1, -2, -3, -2, -2, -3, -2, -1, -3, -2, -1,  0])\n",
    "np.testing.assert_array_almost_equal(v, expected_v, decimal=2)"
   ]
  },
  {
   "cell_type": "code",
   "execution_count": 69,
   "metadata": {
    "colab": {
     "base_uri": "https://localhost:8080/",
     "height": 34
    },
    "colab_type": "code",
    "id": "k6B4qTl3IbU_",
    "outputId": "0ffdfd48-73c4-435d-8b2f-2cb71e208d49"
   },
   "outputs": [
    {
     "name": "stdout",
     "output_type": "stream",
     "text": [
      "5\n"
     ]
    }
   ],
   "source": [
    "print (len(val))"
   ]
  },
  {
   "cell_type": "code",
   "execution_count": 71,
   "metadata": {
    "colab": {
     "base_uri": "https://localhost:8080/",
     "height": 173
    },
    "colab_type": "code",
    "id": "ouche3jxIpez",
    "outputId": "08dbb657-5896-4d25-e3f0-ea318d6a1bdc"
   },
   "outputs": [
    {
     "data": {
      "text/plain": [
       "[array([0., 0., 0., 0., 0., 0., 0., 0., 0., 0., 0., 0., 0., 0., 0., 0.]),\n",
       " array([ 0., -1., -1., -1., -1., -1., -1., -1., -1., -1., -1., -1., -1.,\n",
       "        -1., -1.,  0.]),\n",
       " array([ 0., -1., -2., -2., -1., -2., -2., -2., -2., -2., -2., -1., -2.,\n",
       "        -2., -1.,  0.]),\n",
       " array([ 0., -1., -2., -3., -1., -2., -3., -2., -2., -3., -2., -1., -3.,\n",
       "        -2., -1.,  0.]),\n",
       " array([ 0., -1., -2., -3., -1., -2., -3., -2., -2., -3., -2., -1., -3.,\n",
       "        -2., -1.,  0.])]"
      ]
     },
     "execution_count": 71,
     "metadata": {
      "tags": []
     },
     "output_type": "execute_result"
    }
   ],
   "source": [
    "val"
   ]
  },
  {
   "cell_type": "code",
   "execution_count": 70,
   "metadata": {
    "colab": {
     "base_uri": "https://localhost:8080/",
     "height": 269
    },
    "colab_type": "code",
    "id": "BCN33w7YIbVp",
    "outputId": "1a1e4ca8-94c3-4520-e39a-eb6e3a577cc4"
   },
   "outputs": [
    {
     "data": {
      "image/png": "[encoded data removed]",
      "text/plain": [
       "<Figure size 432x288 with 1 Axes>"
      ]
     },
     "metadata": {
      "tags": []
     },
     "output_type": "display_data"
    }
   ],
   "source": [
    "show_anim(val, 'vi_value_function', n=4)"
   ]
  },
  {
   "cell_type": "code",
   "execution_count": 72,
   "metadata": {
    "colab": {
     "base_uri": "https://localhost:8080/",
     "height": 288
    },
    "colab_type": "code",
    "id": "E5oSjqdrIbV_",
    "outputId": "92934372-58a0-44a1-eb38-50de522455a6"
   },
   "outputs": [
    {
     "data": {
      "text/html": [
       "\n",
       "<video width=400 controls>\n",
       "      <source src=\"data:video/mp4;base64,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\" type=\"video/mp4\">\n",
       "</video>\n"
      ],
      "text/plain": [
       "<IPython.core.display.HTML object>"
      ]
     },
     "execution_count": 72,
     "metadata": {
      "tags": []
     },
     "output_type": "execute_result"
    }
   ],
   "source": [
    "from IPython.display import HTML\n",
    "from base64 import b64encode\n",
    "mp4 = open('vi_value_function.mp4','rb').read()\n",
    "data_url = \"data:video/mp4;base64,\" + b64encode(mp4).decode()\n",
    "HTML(\"\"\"\n",
    "<video width=400 controls>\n",
    "      <source src=\"%s\" type=\"video/mp4\">\n",
    "</video>\n",
    "\"\"\" % data_url)"
   ]
  },
  {
   "cell_type": "code",
   "execution_count": 0,
   "metadata": {
    "colab": {},
    "colab_type": "code",
    "id": "rieqNHuTIrm5"
   },
   "outputs": [],
   "source": []
  }
 ],
 "metadata": {
  "accelerator": "GPU",
  "colab": {
   "collapsed_sections": [],
   "name": "Dynamic_Programming_Grid_World.ipynb",
   "provenance": []
  },
  "kernelspec": {
   "display_name": "Python 3",
   "language": "python",
   "name": "python3"
  },
  "language_info": {
   "codemirror_mode": {
    "name": "ipython",
    "version": 3
   },
   "file_extension": ".py",
   "mimetype": "text/x-python",
   "name": "python",
   "nbconvert_exporter": "python",
   "pygments_lexer": "ipython3",
   "version": "3.7.4"
  }
 },
 "nbformat": 4,
 "nbformat_minor": 1
}
