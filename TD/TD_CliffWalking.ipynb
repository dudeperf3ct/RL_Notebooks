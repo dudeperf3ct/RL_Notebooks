{
  "nbformat": 4,
  "nbformat_minor": 0,
  "metadata": {
    "kernelspec": {
      "name": "python3",
      "display_name": "Python 3"
    },
    "language_info": {
      "codemirror_mode": {
        "name": "ipython",
        "version": 2
      },
      "file_extension": ".py",
      "mimetype": "text/x-python",
      "name": "python",
      "nbconvert_exporter": "python",
      "pygments_lexer": "ipython2",
      "version": "2.7.12"
    },
    "colab": {
      "name": "TD_CliffWalking.ipynb",
      "provenance": [],
      "collapsed_sections": [],
      "machine_shape": "hm"
    },
    "accelerator": "GPU"
  },
  "cells": [
    {
      "cell_type": "markdown",
      "metadata": {
        "id": "Lm17wTnmUYDG",
        "colab_type": "text"
      },
      "source": [
        "# TD Learning\n",
        "\n",
        "In this notebook, we will use TD to solve Cliff Walking environment. \n",
        "\n",
        "Everything is explained in-detail in [blog post](https://dudeperf3ct.github.io/rl/2019/12/29/Tabular-Solution/#td-learning). This is notebook which replicates the result of blog and runs in colab. Enjoy!\n",
        "\n",
        "\n",
        "#### Run in Colab\n",
        "\n",
        "You can run this notebook in google colab.\n",
        "\n",
        "[![Open In Colab](https://colab.research.google.com/assets/colab-badge.svg)](\n",
        "https://colab.research.google.com/github/dudeperf3ct/RL_Notebooks/blob/master/TD/TD_CliffWalking.ipynb)"
      ]
    },
    {
      "cell_type": "code",
      "metadata": {
        "id": "NKqSIm9JbeZE",
        "colab_type": "code",
        "colab": {}
      },
      "source": [
        "# # We need plotting from lib\n",
        "# # either upload to colab or google drive\n",
        "\n",
        "# from google.colab import drive\n",
        "# drive.mount('/content/drive')\n",
        "# !cp -a drive/My\\ Drive/Colab\\ Notebooks/RL_Notebooks/lib /content/"
      ],
      "execution_count": 0,
      "outputs": []
    },
    {
      "cell_type": "code",
      "metadata": {
        "id": "rb8AE51TMSYC",
        "colab_type": "code",
        "colab": {}
      },
      "source": [
        "import gym\n",
        "import matplotlib\n",
        "import numpy as np\n",
        "import random\n",
        "import itertools\n",
        "import sys\n",
        "from collections import defaultdict\n",
        "from gym.envs.toy_text.cliffwalking import CliffWalkingEnv\n",
        "from lib import plotting\n",
        "\n",
        "matplotlib.style.use('ggplot')\n",
        "%matplotlib inline"
      ],
      "execution_count": 0,
      "outputs": []
    },
    {
      "cell_type": "markdown",
      "metadata": {
        "id": "nsODcHiXcpse",
        "colab_type": "text"
      },
      "source": [
        "### CliffWalking Environment\n",
        "\n",
        "In this environment, we are given start state(x) and a goal state(T) and along the bottom edge there is a cliff(C). The goal is to find optimal policy to reach the goal state. \n",
        "\n",
        "An agent can take 4 actions \"up\", \"right\", \"down\", \"left\" and reward is -1 for all transitions except those into the region marked \"C\". Stepping into \"C\" incurs a reward of -100 and send agent instantly back to start.\n",
        "\n",
        "![cliff_walk](images/cliff_walk.png)\n"
      ]
    },
    {
      "cell_type": "code",
      "metadata": {
        "id": "K6zQZEV2MSYa",
        "colab_type": "code",
        "colab": {}
      },
      "source": [
        "env = CliffWalkingEnv()"
      ],
      "execution_count": 0,
      "outputs": []
    },
    {
      "cell_type": "code",
      "metadata": {
        "id": "rnClreNObb5Y",
        "colab_type": "code",
        "outputId": "05ae7929-5725-44ae-cb0f-af6a274c8049",
        "colab": {
          "base_uri": "https://localhost:8080/",
          "height": 104
        }
      },
      "source": [
        "env.render()"
      ],
      "execution_count": 4,
      "outputs": [
        {
          "output_type": "stream",
          "text": [
            "o  o  o  o  o  o  o  o  o  o  o  o\n",
            "o  o  o  o  o  o  o  o  o  o  o  o\n",
            "o  o  o  o  o  o  o  o  o  o  o  o\n",
            "x  C  C  C  C  C  C  C  C  C  C  T\n",
            "\n"
          ],
          "name": "stdout"
        }
      ]
    },
    {
      "cell_type": "code",
      "metadata": {
        "id": "cMHBwJnYksPZ",
        "colab_type": "code",
        "colab": {}
      },
      "source": [
        "action = [\"up\", \"right\", \"down\", \"left\"]"
      ],
      "execution_count": 0,
      "outputs": []
    },
    {
      "cell_type": "code",
      "metadata": {
        "id": "4Gr_8DQocjrp",
        "colab_type": "code",
        "outputId": "6c1dd2cd-f445-49b9-fd39-3664a2105ddf",
        "colab": {
          "base_uri": "https://localhost:8080/",
          "height": 52
        }
      },
      "source": [
        "# 4x12 grid = 48 states\n",
        "print (\"Number of states:\", env.nS)\n",
        "# either go left, up, down or right\n",
        "print (\"Number of actions that an agent can take:\", env.nA)"
      ],
      "execution_count": 6,
      "outputs": [
        {
          "output_type": "stream",
          "text": [
            "Number of states: 48\n",
            "Number of actions that an agent can take: 4\n"
          ],
          "name": "stdout"
        }
      ]
    },
    {
      "cell_type": "code",
      "metadata": {
        "id": "xGqrjMTHhbg9",
        "colab_type": "code",
        "outputId": "dad2ac42-5b7d-4cfd-b11b-1949fbed2c84",
        "colab": {
          "base_uri": "https://localhost:8080/",
          "height": 72
        }
      },
      "source": [
        "# Where am I? -> in \"x\" state\n",
        "print (\"Current state\", env.s)\n",
        "# What are my options? -> 4 action\n",
        "print (\"Transitions from current state:\", env.P[env.s])"
      ],
      "execution_count": 7,
      "outputs": [
        {
          "output_type": "stream",
          "text": [
            "Current state 36\n",
            "Transitions from current state: {0: [(1.0, 24, -1, False)], 1: [(1.0, 36, -100, False)], 2: [(1.0, 36, -1, False)], 3: [(1.0, 36, -1, False)]}\n"
          ],
          "name": "stdout"
        }
      ]
    },
    {
      "cell_type": "code",
      "metadata": {
        "id": "3wacYGnEcjuX",
        "colab_type": "code",
        "outputId": "74e8e83b-e207-4ec5-e0bb-bb4dfc441b27",
        "colab": {
          "base_uri": "https://localhost:8080/",
          "height": 191
        }
      },
      "source": [
        "# Taking a step by selecting a random action[up=0, right=1, down=2, left=3] from current state\n",
        "# next state: Where do I end up?\n",
        "# reward: What rewards did I recieve?\n",
        "# is_terminal: did I end up in the goal state?\n",
        "# t_prob: What is probability of ending up in next state taking that action?\n",
        "rnd_action = random.randint(0, 3)\n",
        "print (\"Action taken:\", action[rnd_action])\n",
        "next_state, reward, is_terminal, t_prob = env.step(rnd_action)\n",
        "print (\"Transition probability:\", t_prob)\n",
        "print (\"Next state:\", next_state)\n",
        "print (\"Reward recieved:\", reward)\n",
        "print (\"Terminal state:\", is_terminal)\n",
        "env.render()"
      ],
      "execution_count": 8,
      "outputs": [
        {
          "output_type": "stream",
          "text": [
            "Action taken: right\n",
            "Transition probability: {'prob': 1.0}\n",
            "Next state: 36\n",
            "Reward recieved: -100\n",
            "Terminal state: False\n",
            "o  o  o  o  o  o  o  o  o  o  o  o\n",
            "o  o  o  o  o  o  o  o  o  o  o  o\n",
            "o  o  o  o  o  o  o  o  o  o  o  o\n",
            "x  C  C  C  C  C  C  C  C  C  C  T\n",
            "\n"
          ],
          "name": "stdout"
        }
      ]
    },
    {
      "cell_type": "markdown",
      "metadata": {
        "colab_type": "text",
        "id": "1GmZSgEiPWEN"
      },
      "source": [
        "### SARSA (On-policy)\n",
        "\n",
        "The goal in sarsa is to find optimal policy.\n",
        "\n",
        "$$ \\begin{aligned} Q(s_{t}, a_{t}) &= Q(s_{t}, a_{t}) + \\alpha [R_{t+1} + \\gamma Q(s_{t+1}, a_{t+1}) - Q(s_{t}, a_{t}))]\\ \\end{aligned} $$\n",
        "\n",
        "![SARSA](images/sarsa.png)\n"
      ]
    },
    {
      "cell_type": "code",
      "metadata": {
        "colab_type": "code",
        "id": "eHgTSmDwPWEZ",
        "colab": {}
      },
      "source": [
        "def make_epsilon_greedy_policy(Q, epsilon, nA):\n",
        "    \"\"\"\n",
        "    Creates an epsilon-greedy policy based on a given Q-function and epsilon.\n",
        "    \n",
        "    Args:\n",
        "        Q: A dictionary that maps from state -> action-values.\n",
        "            Each value is a numpy array of length nA (see below)\n",
        "        epsilon: The probability to select a random action float between 0 and 1.\n",
        "        nA: Number of actions in the environment.\n",
        "    \n",
        "    Returns:\n",
        "        A function that takes the observation as an argument and returns\n",
        "        the probabilities for each action in the form of a numpy array of length nA.\n",
        "    \n",
        "    \"\"\"\n",
        "    def policy_fn(observation):\n",
        "        pi = np.ones(nA, dtype=float) * (epsilon/nA)\n",
        "        best_action = np.argmax(Q[observation])\n",
        "        pi[best_action] += (1.0 - epsilon)\n",
        "        return pi\n",
        "    \n",
        "    return policy_fn"
      ],
      "execution_count": 0,
      "outputs": []
    },
    {
      "cell_type": "code",
      "metadata": {
        "id": "606AnMQgkkeG",
        "colab_type": "code",
        "outputId": "c3f08b4d-25bf-4c44-d9ec-7faa9018d3c6",
        "colab": {
          "base_uri": "https://localhost:8080/",
          "height": 69
        }
      },
      "source": [
        "%%time \n",
        "\n",
        "# generate a episode in cliffwalking environment for above sample_policy\n",
        "def generate_episode(policy, verbose=False):\n",
        "    episode = []\n",
        "    env = CliffWalkingEnv()\n",
        "    curr_state = env.reset()\n",
        "    probs = policy(curr_state)\n",
        "    action = np.random.choice(np.arange(len(probs)), p=probs)\n",
        "    \n",
        "    while True:\n",
        "        if verbose:\n",
        "            print (\"Current observation:\")\n",
        "            print (\"Current poistion:\", curr_state)\n",
        "            #print (env.render())\n",
        "        \n",
        "        next_obs, reward, is_terminal, _ = env.step(action)\n",
        "        \n",
        "        if verbose:\n",
        "            print (\"Action taken:\", actions[action])\n",
        "            print (\"Next observation:\", next_obs)\n",
        "            print (\"Reward recieved:\", reward)\n",
        "            print (\"Terminal state:\", is_terminal)\n",
        "            #print (env.render())\n",
        "            print (\"-\"*20)\n",
        "        episode.append((curr_state, action, reward))\n",
        "        \n",
        "        # Pick the next action\n",
        "        next_probs = policy(next_state)\n",
        "        next_action = np.random.choice(np.arange(len(next_probs)), p=next_probs)\n",
        "    \n",
        "        curr_state = next_obs\n",
        "        action = next_action\n",
        "\n",
        "        if (is_terminal):\n",
        "            break\n",
        "\n",
        "    return episode\n",
        "    \n",
        "Q = defaultdict(lambda: np.zeros(env.action_space.n))\n",
        "policy = make_epsilon_greedy_policy(Q, 0.1, env.action_space.n)\n",
        "e = generate_episode(policy)\n",
        "#print (\"Episode:\", e)\n",
        "print (\"Length of episode:\", len(e))"
      ],
      "execution_count": 10,
      "outputs": [
        {
          "output_type": "stream",
          "text": [
            "Length of episode: 586697\n",
            "CPU times: user 44.1 s, sys: 319 ms, total: 44.4 s\n",
            "Wall time: 44.2 s\n"
          ],
          "name": "stdout"
        }
      ]
    },
    {
      "cell_type": "code",
      "metadata": {
        "colab_type": "code",
        "id": "n8ySIkqZPWEw",
        "colab": {}
      },
      "source": [
        "def sarsa(env, num_episodes, discount_factor=1.0, alpha=0.5, epsilon=0.1):\n",
        "    \"\"\"\n",
        "    SARSA algorithm: On-policy TD control. Finds the optimal epsilon-greedy policy.\n",
        "    \n",
        "    Args:\n",
        "        env: OpenAI environment.\n",
        "        num_episodes: Number of episodes to run for.\n",
        "        discount_factor: Gamma discount factor.\n",
        "        alpha: TD learning rate.\n",
        "        epsilon: Chance the sample a random action. Float betwen 0 and 1.\n",
        "    \n",
        "    Returns:\n",
        "        A tuple (Q, stats).\n",
        "        Q is the optimal action-value function, a dictionary mapping state -> action values.\n",
        "        stats is an EpisodeStats object with two numpy arrays for episode_lengths and episode_rewards.\n",
        "    \"\"\"\n",
        "    \n",
        "    # The final action-value function.\n",
        "    # A nested dictionary that maps state -> (action -> action-value).\n",
        "    Q = defaultdict(lambda: np.zeros(env.action_space.n))\n",
        "    \n",
        "    # Keeps track of useful statistics\n",
        "    stats = plotting.EpisodeStats(\n",
        "        episode_lengths=np.zeros(num_episodes),\n",
        "        episode_rewards=np.zeros(num_episodes))\n",
        "\n",
        "    # The policy we're following\n",
        "    policy = make_epsilon_greedy_policy(Q, epsilon, env.action_space.n)\n",
        "    \n",
        "    for i_episode in range(num_episodes):\n",
        "        # Print out which episode we're on, useful for debugging.\n",
        "        if (i_episode + 1) % 100 == 0:\n",
        "            print(\"\\rEpisode {}/{}.\".format(i_episode + 1, num_episodes), end=\"\")\n",
        "            sys.stdout.flush()\n",
        "    \n",
        "        # Reset the environment and pick the first action\n",
        "        state = env.reset()\n",
        "        probs = policy(state)\n",
        "        action = np.random.choice(np.arange(len(probs)), p=probs)\n",
        "        \n",
        "        # Approach : 1\n",
        "        # Takes a lot a lot lot of time to run\n",
        "        # ep = generate_episode(policy)\n",
        "        # for i in range(len(ep)-1):\n",
        "        #     state, action, reward = ep[i]\n",
        "        #     next_state, next_action, next_reward = ep[i+1]\n",
        "        \n",
        "        #     td_target = reward + discount_factor * Q[next_state][next_action]\n",
        "        #     td_error = td_target - Q[state][action]\n",
        "        #     Q[state][action] += alpha * td_error\n",
        "\n",
        "        #     stats.episode_rewards[i_episode] += reward\n",
        "        #     stats.episode_lengths[i_episode] = t\n",
        "\n",
        "        # Approach : 2\n",
        "        # One step in the environment\n",
        "        for t in itertools.count():\n",
        "            # Take a step\n",
        "            next_state, reward, is_terminal, _ = env.step(action)\n",
        "            \n",
        "            # Pick the next action\n",
        "            next_probs = policy(next_state)\n",
        "            next_action = np.random.choice(np.arange(len(next_probs)), p=next_probs)\n",
        "            \n",
        "            td_target = reward + discount_factor * Q[next_state][next_action]\n",
        "            td_error = td_target - Q[state][action]\n",
        "            Q[state][action] += alpha * td_error\n",
        "\n",
        "            stats.episode_rewards[i_episode] += reward\n",
        "            stats.episode_lengths[i_episode] = t\n",
        "\n",
        "            if is_terminal:\n",
        "                break\n",
        "            \n",
        "            state = next_state\n",
        "            action = next_action\n",
        "\n",
        "    return Q, stats"
      ],
      "execution_count": 0,
      "outputs": []
    },
    {
      "cell_type": "code",
      "metadata": {
        "colab_type": "code",
        "id": "Vy2lz2c5PWFB",
        "outputId": "5306a67e-8419-4751-eea0-3fe1727742b4",
        "colab": {
          "base_uri": "https://localhost:8080/",
          "height": 52
        }
      },
      "source": [
        "%%time\n",
        "Q, stats = sarsa(env, 200)"
      ],
      "execution_count": 12,
      "outputs": [
        {
          "output_type": "stream",
          "text": [
            "Episode 200/200.CPU times: user 545 ms, sys: 30.4 ms, total: 575 ms\n",
            "Wall time: 544 ms\n"
          ],
          "name": "stdout"
        }
      ]
    },
    {
      "cell_type": "code",
      "metadata": {
        "colab_type": "code",
        "id": "fe8G4I2HPWFN",
        "outputId": "8c0ef130-1b50-4992-d3a1-cbcc945c69c3",
        "colab": {
          "base_uri": "https://localhost:8080/",
          "height": 1000
        }
      },
      "source": [
        "plotting.plot_episode_stats(stats)"
      ],
      "execution_count": 13,
      "outputs": [
        {
          "output_type": "display_data",
          "data": {
            "image/png": "[encoded data removed]",
            "text/plain": [
              "<Figure size 720x360 with 1 Axes>"
            ]
          },
          "metadata": {
            "tags": []
          }
        },
        {
          "output_type": "display_data",
          "data": {
            "image/png": "[encoded data removed]",
            "text/plain": [
              "<Figure size 720x360 with 1 Axes>"
            ]
          },
          "metadata": {
            "tags": []
          }
        },
        {
          "output_type": "display_data",
          "data": {
            "image/png": "[encoded data removed]",
            "text/plain": [
              "<Figure size 720x360 with 1 Axes>"
            ]
          },
          "metadata": {
            "tags": []
          }
        },
        {
          "output_type": "execute_result",
          "data": {
            "text/plain": [
              "(<Figure size 720x360 with 1 Axes>,\n",
              " <Figure size 720x360 with 1 Axes>,\n",
              " <Figure size 720x360 with 1 Axes>)"
            ]
          },
          "metadata": {
            "tags": []
          },
          "execution_count": 13
        }
      ]
    },
    {
      "cell_type": "code",
      "metadata": {
        "id": "E6i51yUiiFTk",
        "colab_type": "code",
        "colab": {}
      },
      "source": [
        "# get greedy policy from Q\n",
        "policy = np.array([np.argmax(Q[key]) if key in Q else -1 for key in np.arange(48)])\n",
        "# get value function from Q using greedy policy\n",
        "v = ([np.max(Q[key]) if key in Q else 0 for key in np.arange(48)])"
      ],
      "execution_count": 0,
      "outputs": []
    },
    {
      "cell_type": "code",
      "metadata": {
        "id": "TmNrgrNyh6f1",
        "colab_type": "code",
        "colab": {
          "base_uri": "https://localhost:8080/",
          "height": 538
        },
        "outputId": "c34538f5-086a-402d-f078-62025ca03308"
      },
      "source": [
        "print(\"Reshaped Grid Policy:\")\n",
        "actions = np.stack([action for _ in range(len(policy))], axis=0)\n",
        "print (np.reshape(policy, (4, 12)))\n",
        "print (\"\")\n",
        "\n",
        "print (\"Optimal Policy:\")\n",
        "print(np.take(actions, np.reshape(policy, (4, 12))))\n",
        "print(\"\")\n",
        "\n",
        "print(\"Optimal Value Function:\")\n",
        "print(np.reshape(v, (4, 12)))\n",
        "print(\"\")"
      ],
      "execution_count": 15,
      "outputs": [
        {
          "output_type": "stream",
          "text": [
            "Reshaped Grid Policy:\n",
            "[[ 1  1  1  1  1  1  1  1  1  1  1  2]\n",
            " [ 0  0  0  1  1  0  0  1  1  0  1  2]\n",
            " [ 0  0  1  0  3  0  0  3  3  1  1  2]\n",
            " [ 0 -1 -1 -1 -1 -1 -1 -1 -1 -1 -1  0]]\n",
            "\n",
            "Optimal Policy:\n",
            "[['right' 'right' 'right' 'right' 'right' 'right' 'right' 'right' 'right'\n",
            "  'right' 'right' 'down']\n",
            " ['up' 'up' 'up' 'right' 'right' 'up' 'up' 'right' 'right' 'up' 'right'\n",
            "  'down']\n",
            " ['up' 'up' 'right' 'up' 'left' 'up' 'up' 'left' 'left' 'right' 'right'\n",
            "  'down']\n",
            " ['up' 'left' 'left' 'left' 'left' 'left' 'left' 'left' 'left' 'left'\n",
            "  'left' 'up']]\n",
            "\n",
            "Optimal Value Function:\n",
            "[[-15.90385232 -14.67531033 -13.34201405 -12.31405768 -11.69929733\n",
            "  -10.78860811  -9.1503214   -7.48387682  -6.15989941  -5.03114303\n",
            "   -4.00574771  -3.00049343]\n",
            " [-16.97368456 -16.06568522 -14.75638741 -13.1699256  -12.70618391\n",
            "  -11.05077916 -11.51235667  -8.42031773  -7.37604038  -6.32110215\n",
            "   -3.04907774  -2.00000199]\n",
            " [-17.98857572 -16.09729106  -9.08582484 -13.40772671 -10.16758344\n",
            "  -10.02753832  -3.67102051  -3.95410156  -3.58203125  -3.17556949\n",
            "   -2.11288583  -1.        ]\n",
            " [-18.95506714   0.           0.           0.           0.\n",
            "    0.           0.           0.           0.           0.\n",
            "    0.           0.        ]]\n",
            "\n"
          ],
          "name": "stdout"
        }
      ]
    },
    {
      "cell_type": "markdown",
      "metadata": {
        "id": "JYeK9HPuClQC",
        "colab_type": "text"
      },
      "source": [
        "### Q-Learning\n",
        "\n",
        "The goal in Q-learning is to find optimal policy while following $\\epsilon$-greedy policy.\n",
        "\n",
        "![QL](images/ql.png)\n"
      ]
    },
    {
      "cell_type": "code",
      "metadata": {
        "id": "CJQJLMlQCeOr",
        "colab_type": "code",
        "colab": {}
      },
      "source": [
        "def make_epsilon_greedy_policy(Q, epsilon, nA):\n",
        "    \"\"\"\n",
        "    Creates an epsilon-greedy policy based on a given Q-function and epsilon.\n",
        "    \n",
        "    Args:\n",
        "        Q: A dictionary that maps from state -> action-values.\n",
        "            Each value is a numpy array of length nA (see below)\n",
        "        epsilon: The probability to select a random action float between 0 and 1.\n",
        "        nA: Number of actions in the environment.\n",
        "    \n",
        "    Returns:\n",
        "        A function that takes the observation as an argument and returns\n",
        "        the probabilities for each action in the form of a numpy array of length nA.\n",
        "    \n",
        "    \"\"\"\n",
        "    def policy_fn(observation):\n",
        "        pi = np.ones(nA, dtype=float) * (epsilon/nA)\n",
        "        best_action = np.argmax(Q[observation])\n",
        "        pi[best_action] += (1.0 - epsilon)\n",
        "        return pi\n",
        "    \n",
        "    return policy_fn"
      ],
      "execution_count": 0,
      "outputs": []
    },
    {
      "cell_type": "code",
      "metadata": {
        "id": "hndLL0YcCeMn",
        "colab_type": "code",
        "colab": {}
      },
      "source": [
        "def q_learning(env, num_episodes, discount_factor=1.0, alpha=0.5, epsilon=0.1):\n",
        "    \"\"\"\n",
        "    Q-Learning algorithm: Off-policy TD control. Finds the optimal greedy policy\n",
        "    while following an epsilon-greedy policy\n",
        "    \n",
        "    Args:\n",
        "        env: OpenAI environment.\n",
        "        num_episodes: Number of episodes to run for.\n",
        "        discount_factor: Gamma discount factor.\n",
        "        alpha: TD learning rate.\n",
        "        epsilon: Chance to sample a random action. Float between 0 and 1.\n",
        "    \n",
        "    Returns:\n",
        "        A tuple (Q, episode_lengths).\n",
        "        Q is the optimal action-value function, a dictionary mapping state -> action values.\n",
        "        stats is an EpisodeStats object with two numpy arrays for episode_lengths and episode_rewards.\n",
        "    \"\"\"\n",
        "    \n",
        "    # The final action-value function.\n",
        "    # A nested dictionary that maps state -> (action -> action-value).\n",
        "    Q = defaultdict(lambda: np.zeros(env.action_space.n))\n",
        "\n",
        "    # Keeps track of useful statistics\n",
        "    stats = plotting.EpisodeStats(\n",
        "        episode_lengths=np.zeros(num_episodes),\n",
        "        episode_rewards=np.zeros(num_episodes))    \n",
        "    \n",
        "    # The policy we're following\n",
        "    policy = make_epsilon_greedy_policy(Q, epsilon, env.action_space.n)\n",
        "    \n",
        "    for i_episode in range(num_episodes):\n",
        "        # Print out which episode we're on, useful for debugging.\n",
        "        if (i_episode + 1) % 100 == 0:\n",
        "            print(\"\\rEpisode {}/{}.\".format(i_episode + 1, num_episodes), end=\"\")\n",
        "            sys.stdout.flush()\n",
        "\n",
        "        # Approach : 1\n",
        "        # Couldn't run this because SARSA never finished :(\n",
        "        # ep = generate_episode(policy, False)\n",
        "\n",
        "        # for i in range(len(ep)-1):\n",
        "        #     state, action, reward = ep[i]\n",
        "        #     next_state, next_action, next_reward = ep[i+1]\n",
        "\n",
        "        #     best_next_action = np.argmax(Q[next_state])\n",
        "        #     td_target = reward + discount_factor * Q[next_state][best_next_action]\n",
        "        #     td_error = td_target - Q[state][action]\n",
        "        #     Q[state][action] += alpha * td_error\n",
        "\n",
        "        #     stats.episode_rewards[i_episode] += reward\n",
        "        #     stats.episode_lengths[i_episode] = t\n",
        "\n",
        "        # Reset the environment and pick the first action\n",
        "        state = env.reset()\n",
        "        probs = policy(state)\n",
        "        action = np.random.choice(np.arange(len(probs)), p=probs)\n",
        "        \n",
        "        # Approach : 2\n",
        "        # One step in the environment\n",
        "        for t in itertools.count():\n",
        "            # Take a step\n",
        "            next_state, reward, is_terminal, _ = env.step(action)\n",
        "                       \n",
        "            best_next_action = np.argmax(Q[next_state])\n",
        "            td_target = reward + discount_factor * Q[next_state][best_next_action]\n",
        "            td_error = td_target - Q[state][action]\n",
        "            Q[state][action] += alpha * td_error\n",
        "\n",
        "            stats.episode_rewards[i_episode] += reward\n",
        "            stats.episode_lengths[i_episode] = t\n",
        "\n",
        "            if is_terminal:\n",
        "                break\n",
        "            \n",
        "            state = next_state\n",
        "            action = best_next_action\n",
        "\n",
        "    return Q, stats"
      ],
      "execution_count": 0,
      "outputs": []
    },
    {
      "cell_type": "code",
      "metadata": {
        "id": "HPhB_ONWC8z4",
        "colab_type": "code",
        "outputId": "cba33c1f-955d-4b2d-f29b-d28ad48b741e",
        "colab": {
          "base_uri": "https://localhost:8080/",
          "height": 52
        }
      },
      "source": [
        "%%time\n",
        "Q, stats = q_learning(env, 500)"
      ],
      "execution_count": 18,
      "outputs": [
        {
          "output_type": "stream",
          "text": [
            "Episode 500/500.CPU times: user 263 ms, sys: 31.5 ms, total: 295 ms\n",
            "Wall time: 261 ms\n"
          ],
          "name": "stdout"
        }
      ]
    },
    {
      "cell_type": "code",
      "metadata": {
        "id": "9lShEGgLCeHp",
        "colab_type": "code",
        "outputId": "c2a0c5e8-902f-4913-d685-2a49845d78ad",
        "colab": {
          "base_uri": "https://localhost:8080/",
          "height": 1000
        }
      },
      "source": [
        "plotting.plot_episode_stats(stats)"
      ],
      "execution_count": 19,
      "outputs": [
        {
          "output_type": "display_data",
          "data": {
            "image/png": "[encoded data removed]",
            "text/plain": [
              "<Figure size 720x360 with 1 Axes>"
            ]
          },
          "metadata": {
            "tags": []
          }
        },
        {
          "output_type": "display_data",
          "data": {
            "image/png": "[encoded data removed]",
            "text/plain": [
              "<Figure size 720x360 with 1 Axes>"
            ]
          },
          "metadata": {
            "tags": []
          }
        },
        {
          "output_type": "display_data",
          "data": {
            "image/png": "[encoded data removed]",
            "text/plain": [
              "<Figure size 720x360 with 1 Axes>"
            ]
          },
          "metadata": {
            "tags": []
          }
        },
        {
          "output_type": "execute_result",
          "data": {
            "text/plain": [
              "(<Figure size 720x360 with 1 Axes>,\n",
              " <Figure size 720x360 with 1 Axes>,\n",
              " <Figure size 720x360 with 1 Axes>)"
            ]
          },
          "metadata": {
            "tags": []
          },
          "execution_count": 19
        }
      ]
    },
    {
      "cell_type": "code",
      "metadata": {
        "colab_type": "code",
        "id": "2WonRAK4ixMh",
        "colab": {}
      },
      "source": [
        "# get greedy policy from Q\n",
        "policy = np.array([np.argmax(Q[key]) if key in Q else -1 for key in np.arange(48)])\n",
        "# get value function from Q using greedy policy\n",
        "v = ([np.max(Q[key]) if key in Q else 0 for key in np.arange(48)])"
      ],
      "execution_count": 0,
      "outputs": []
    },
    {
      "cell_type": "code",
      "metadata": {
        "colab_type": "code",
        "id": "GINohNtqixNA",
        "colab": {
          "base_uri": "https://localhost:8080/",
          "height": 538
        },
        "outputId": "b0aa2b33-e66f-45df-9da2-95f4dd90e4d4"
      },
      "source": [
        "print(\"Reshaped Grid Policy:\")\n",
        "actions = np.stack([action for _ in range(len(policy))], axis=0)\n",
        "print (np.reshape(policy, (4, 12)))\n",
        "print (\"\")\n",
        "\n",
        "print (\"Optimal Policy:\")\n",
        "print(np.take(actions, np.reshape(policy, (4, 12))))\n",
        "print(\"\")\n",
        "\n",
        "print(\"Optimal Value Function:\")\n",
        "print(np.reshape(v, (4, 12)))\n",
        "print(\"\")"
      ],
      "execution_count": 21,
      "outputs": [
        {
          "output_type": "stream",
          "text": [
            "Reshaped Grid Policy:\n",
            "[[ 1  1  1  2  2  1  1  1  2  1  1  2]\n",
            " [ 1  1  0  1  3  1  1  2  1  1  2  2]\n",
            " [ 1  1  1  1  1  1  1  1  1  1  1  2]\n",
            " [ 0 -1 -1 -1 -1 -1 -1 -1 -1 -1 -1  0]]\n",
            "\n",
            "Optimal Policy:\n",
            "[['right' 'right' 'right' 'down' 'down' 'right' 'right' 'right' 'down'\n",
            "  'right' 'right' 'down']\n",
            " ['right' 'right' 'up' 'right' 'left' 'right' 'right' 'down' 'right'\n",
            "  'right' 'down' 'down']\n",
            " ['right' 'right' 'right' 'right' 'right' 'right' 'right' 'right' 'right'\n",
            "  'right' 'right' 'down']\n",
            " ['up' 'left' 'left' 'left' 'left' 'left' 'left' 'left' 'left' 'left'\n",
            "  'left' 'up']]\n",
            "\n",
            "Optimal Value Function:\n",
            "[[-11.1339619  -10.628736    -9.95425626  -9.1882717   -8.46938868\n",
            "   -7.64126222  -6.95511374  -6.18331443  -5.3061077   -4.5489931\n",
            "   -3.70860939  -2.94821961]\n",
            " [-11.36207581 -10.78245174  -9.89770311  -9.14756348  -8.31137949\n",
            "   -7.51620908  -6.63177683  -5.76088237  -4.84638692  -3.942866\n",
            "   -2.98186038  -1.99986803]\n",
            " [-12.         -11.         -10.          -9.          -8.\n",
            "   -7.          -6.          -5.          -4.          -3.\n",
            "   -2.          -1.        ]\n",
            " [-13.           0.           0.           0.           0.\n",
            "    0.           0.           0.           0.           0.\n",
            "    0.           0.        ]]\n",
            "\n"
          ],
          "name": "stdout"
        }
      ]
    }
  ]
}